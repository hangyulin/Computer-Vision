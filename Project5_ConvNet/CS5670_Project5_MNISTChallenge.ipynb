{
 "cells": [
  {
   "cell_type": "markdown",
   "metadata": {
    "colab_type": "text",
    "id": "CJ1zvCUxhz_Y"
   },
   "source": [
    "# CS5670 Project 5 - MNIST Challenge Notebook\n",
    "\n",
    "Welcome to the Project 5 4-credit MNIST Challenge.\n",
    "\n",
    "In this notebook you will create and train your own neural network model in PyTorch for classifying handwritten digits on the MNIST dataset.\n",
    "We will pretend that we are targeting low-power and low-memory devices, and so you will have to limit the number of model parameters that you use."
   ]
  },
  {
   "cell_type": "markdown",
   "metadata": {
    "colab_type": "text",
    "id": "4OvSJugE7bql"
   },
   "source": [
    "## Installation of Dependencies\n",
    "\n",
    "First you want to **make sure that you're using the GPU backend**.\n",
    "\n",
    "* Go to Runtime -> Change runtime type and choose \"GPU\" under Hardware Accelerator.\n",
    "* Only then run the next cell. It should print \"GPU Support: True\""
   ]
  },
  {
   "cell_type": "code",
   "execution_count": 1,
   "metadata": {
    "colab": {
     "autoexec": {
      "startup": false,
      "wait_interval": 0
     }
    },
    "colab_type": "code",
    "id": "x4Wlyq6F7Vny"
   },
   "outputs": [
    {
     "name": "stdout",
     "output_type": "stream",
     "text": [
      "GPU Support: True\n"
     ]
    }
   ],
   "source": [
    "# http://pytorch.org/\n",
    "from os import path\n",
    "from wheel.pep425tags import get_abbr_impl, get_impl_ver, get_abi_tag\n",
    "platform = '{}{}-{}'.format(get_abbr_impl(), get_impl_ver(), get_abi_tag())\n",
    "\n",
    "accelerator = 'cu80' if path.exists('/opt/bin/nvidia-smi') else 'cpu'\n",
    "\n",
    "!pip install -q http://download.pytorch.org/whl/{accelerator}/torch-1.0.0-{platform}-linux_x86_64.whl torchvision==0.2.1\n",
    "!pip install pillow==6.2.1\n",
    "import torch\n",
    "print(f\"GPU Support: {torch.cuda.is_available()}\")"
   ]
  },
  {
   "cell_type": "markdown",
   "metadata": {
    "colab_type": "text",
    "id": "XHLKy2Ekqoq4"
   },
   "source": [
    "## Useful functions\n",
    "\n",
    "Run the below cell to define functions that will be used later"
   ]
  },
  {
   "cell_type": "code",
   "execution_count": 8,
   "metadata": {
    "colab": {
     "autoexec": {
      "startup": false,
      "wait_interval": 0
     }
    },
    "colab_type": "code",
    "id": "XPWrOExkqysJ"
   },
   "outputs": [],
   "source": [
    "import torch\n",
    "import torch.nn as nn\n",
    "import torch.nn.functional as F\n",
    "import torchvision\n",
    "from torch.autograd import Variable\n",
    "\n",
    "import urllib\n",
    "import cv2\n",
    "import numpy as np\n",
    "import os, sys, math, random, subprocess\n",
    "import matplotlib.pyplot as plt\n",
    "from scipy.ndimage.filters import gaussian_filter\n",
    "from IPython.display import clear_output, Image, display, HTML\n",
    "from google.protobuf import text_format\n",
    "from io import StringIO\n",
    "import PIL.Image\n",
    "\n",
    "\n",
    "def get_n_params(module):\n",
    "    nparam = 0\n",
    "    for name, param in module.named_parameters():\n",
    "        param_count = 1\n",
    "        for size in list(param.size()):\n",
    "            param_count *= size\n",
    "        nparam += param_count\n",
    "    return nparam\n",
    "\n",
    "\n",
    "def get_model_params(model):\n",
    "    nparam = 0\n",
    "    for name, module in model.named_modules():\n",
    "        nparam += get_n_params(module)\n",
    "    return nparam\n",
    "\n",
    "\n",
    "def to_numpy_image(tensor_or_variable):\n",
    "\n",
    "    # If this is already a numpy image, just return it\n",
    "    if type(tensor_or_variable) == np.ndarray:\n",
    "        return tensor_or_variable\n",
    "\n",
    "    # Make sure this is a tensor and not a variable\n",
    "    if type(tensor_or_variable) == Variable:\n",
    "        tensor = tensor_or_variable.data\n",
    "    else:\n",
    "        tensor = tensor_or_variable\n",
    "\n",
    "    # Convert to numpy and move to CPU if necessary\n",
    "    np_img = tensor.cpu().numpy()\n",
    "\n",
    "    # If there is no batch dimension, add one\n",
    "    if len(np_img.shape) == 3:\n",
    "        np_img = np_img[np.newaxis, ...]\n",
    "\n",
    "    # Convert from BxCxHxW (PyTorch convention) to BxHxWxC (OpenCV/numpy convention)\n",
    "    np_img = np_img.transpose(0, 2, 3, 1)\n",
    "\n",
    "    return np_img\n",
    "\n",
    "\n",
    "def normalize_zero_one_range(tensor_like):\n",
    "    x = tensor_like - tensor_like.min()\n",
    "    x = x / (x.max() + 1e-9)\n",
    "    return x\n",
    "\n",
    "\n",
    "def prep_for_showing(image):\n",
    "    np_img = to_numpy_image(image)\n",
    "    if len(np_img.shape) > 3:\n",
    "        np_img = np_img[0]\n",
    "    np_img = normalize_zero_one_range(np_img)\n",
    "    return np_img\n",
    "\n",
    "\n",
    "def show_image(tensor_var_or_np, title=None, bordercolor=None):\n",
    "    np_img = prep_for_showing(tensor_var_or_np)\n",
    "\n",
    "    if bordercolor is not None:\n",
    "        np_img = draw_border(np_img, bordercolor)\n",
    "\n",
    "    # plot it\n",
    "    np_img = np_img.squeeze()\n",
    "    plt.figure(figsize=(4, 4))\n",
    "    plt.imshow(np_img)\n",
    "    plt.axis('off')\n",
    "    if title: plt.title(title)\n",
    "    plt.show()"
   ]
  },
  {
   "cell_type": "markdown",
   "metadata": {
    "colab_type": "text",
    "id": "CJiMTcx9qr5Z"
   },
   "source": [
    "## Training Data\n",
    "\n",
    "We will use the [MNIST handrwritten digit dataset](http://yann.lecun.com/exdb/mnist/) to train our neural network models. There is a simple wrapper for the MNIST dataset in the torchvision package that implements the Dataset class. We will use that in conjunction with the DataLoader to load training data. Run the below cell to download and initialize our training and test datasets. You should see an example batch of images and their labels shown."
   ]
  },
  {
   "cell_type": "code",
   "execution_count": 3,
   "metadata": {
    "colab": {
     "autoexec": {
      "startup": false,
      "wait_interval": 0
     }
    },
    "colab_type": "code",
    "id": "hURbcBfwqUrY"
   },
   "outputs": [
    {
     "data": {
      "image/png": "[encoded data removed]",
      "text/plain": [
       "<Figure size 288x288 with 1 Axes>"
      ]
     },
     "metadata": {
      "needs_background": "light"
     },
     "output_type": "display_data"
    },
    {
     "name": "stdout",
     "output_type": "stream",
     "text": [
      "GroundTruth:  tensor(7) tensor(2) tensor(1) tensor(0) tensor(4) tensor(1) tensor(4) tensor(9) tensor(5) tensor(9) tensor(0) tensor(6) tensor(9) tensor(0) tensor(1) tensor(5) tensor(9) tensor(7) tensor(3) tensor(4) tensor(9) tensor(6) tensor(6) tensor(5) tensor(4) tensor(0) tensor(7) tensor(4) tensor(0) tensor(1) tensor(3) tensor(1)\n"
     ]
    }
   ],
   "source": [
    "import torchvision\n",
    "import torchvision.transforms as transforms\n",
    "\n",
    "BATCH_SIZE = 32\n",
    "\n",
    "transform = transforms.Compose([\n",
    "    transforms.ToTensor(),\n",
    "    transforms.Normalize((0.5, 0.5, 0.5), (0.5, 0.5, 0.5))\n",
    "])\n",
    "\n",
    "trainset = torchvision.datasets.MNIST(root='./data',\n",
    "                                      train=True,\n",
    "                                      download=True,\n",
    "                                      transform=transform)\n",
    "trainloader = torch.utils.data.DataLoader(trainset,\n",
    "                                          batch_size=BATCH_SIZE,\n",
    "                                          shuffle=True,\n",
    "                                          num_workers=2)\n",
    "\n",
    "testset = torchvision.datasets.MNIST(root='./data',\n",
    "                                     train=False,\n",
    "                                     download=True,\n",
    "                                     transform=transform)\n",
    "testloader = torch.utils.data.DataLoader(testset,\n",
    "                                         batch_size=BATCH_SIZE,\n",
    "                                         shuffle=False,\n",
    "                                         num_workers=2)\n",
    "\n",
    "# get some random training images\n",
    "dataiter = iter(trainloader)\n",
    "images, labels = dataiter.next()\n",
    "\n",
    "dataiter = iter(testloader)\n",
    "images, labels = dataiter.next()\n",
    "\n",
    "# print images\n",
    "show_image(torchvision.utils.make_grid(images))\n",
    "print('GroundTruth: ', ' '.join('%5s' % labels[j] for j in range(BATCH_SIZE)))"
   ]
  },
  {
   "cell_type": "markdown",
   "metadata": {
    "colab_type": "text",
    "id": "BfN6oCjwrqR1"
   },
   "source": [
    "## Model Definition (Example Model)\n",
    "\n",
    "This is an example model provided to you. It is pretty good and it reaches >98% accuracy on the test set, but we can do better. In particular, we will try to break the 99% accuracy barrier with a tight limit on the number of model parameters."
   ]
  },
  {
   "cell_type": "code",
   "execution_count": 2,
   "metadata": {
    "colab": {
     "autoexec": {
      "startup": false,
      "wait_interval": 0
     }
    },
    "colab_type": "code",
    "id": "jjvxIDrXrujd"
   },
   "outputs": [
    {
     "name": "stdout",
     "output_type": "stream",
     "text": [
      "Model number of parameters: 20842\n"
     ]
    }
   ],
   "source": [
    "class ExampleModel(nn.Module):\n",
    "    def __init__(self):\n",
    "        super(ExampleModel, self).__init__()\n",
    "        # Convolution. Input channels: 1, output channels: 6, kernel size: 5\n",
    "        self.conv1 = nn.Conv2d(1, 6, 5)\n",
    "        # Max-pooling layer that will halve the HxW resolution\n",
    "        self.pool = nn.MaxPool2d(2, 2)\n",
    "        # Another 5x5 convolution that brings channel count up to 16\n",
    "        self.conv2 = nn.Conv2d(6, 16, 5)\n",
    "\n",
    "        # Three fully connected layers\n",
    "        self.fc1 = nn.Linear(16 * 4 * 4, 60)\n",
    "        self.fc2 = nn.Linear(60, 40)\n",
    "        self.fc3 = nn.Linear(40, 10)\n",
    "\n",
    "    def forward(self, x):\n",
    "        # Apply convolution, activation and pooling\n",
    "        # Output width after convolution = (input_width - (kernel_size - 1) / 2)\n",
    "        # Output width after pooling = input_width / 2\n",
    "\n",
    "        # x.size() = Bx1x28x28\n",
    "        x = self.pool(F.relu(self.conv1(x)))\n",
    "        # x.size() = Bx6x12x12\n",
    "        x = self.pool(F.relu(self.conv2(x)))\n",
    "        # x.size() = Bx16x4x4\n",
    "\n",
    "        # Flatten the output\n",
    "        x = x.view(-1, 16 * 4 * 4)\n",
    "        x = F.relu(self.fc1(x))\n",
    "        x = F.relu(self.fc2(x))\n",
    "        x = self.fc3(x)\n",
    "        return x\n",
    "\n",
    "\n",
    "net = ExampleModel()\n",
    "\n",
    "nparams = get_n_params(net)\n",
    "print(f\"Model number of parameters: {nparams}\")"
   ]
  },
  {
   "cell_type": "markdown",
   "metadata": {
    "colab_type": "text",
    "id": "ujgr4bu-wdD4"
   },
   "source": [
    "## Model Definition (Your Model)\n",
    "\n",
    "Define your own model here. It should satisfy the following constraints:\n",
    "<font color=\"red\">\n",
    "*** Number of total model parameters: < 50000**\n",
    "<br/>\n",
    "*** Reaches test-set accuracy greater than or equal to 99% after training for 10 epochs**\n",
    "</font>\n",
    "  \n",
    "A couple of ideas you can try:\n",
    "* Different model structure (e.g. more layers, smaller/bigger kernels)\n",
    "* Residual connections\n",
    "* Batch [2] / Layer Normalization [3]\n",
    "* Densely connected architectures [1]\n",
    "\n",
    "<font size=\"1em\">[1] Huang, G., Liu, Z., Weinberger, K. Q., & van der Maaten, L. (2017, July). Densely connected convolutional networks. In Proceedings of the IEEE conference on computer vision and pattern recognition (Vol. 1, No. 2, p. 3).</font>\n",
    "</br>\n",
    "<font size=\"1em\">[2] Ioffe, S., & Szegedy, C. (2015). Batch normalization: Accelerating deep network training by reducing internal covariate shift. arXiv preprint arXiv:1502.03167.</font>\n",
    "</br>\n",
    "<font size=\"1em\">[3] Ba, J. L., Kiros, J. R., & Hinton, G. E. (2016). Layer normalization. arXiv preprint arXiv:1607.06450.\n",
    "</font>"
   ]
  },
  {
   "cell_type": "code",
   "execution_count": 5,
   "metadata": {},
   "outputs": [
    {
     "name": "stdout",
     "output_type": "stream",
     "text": [
      "Model number of parameters: 47498\n"
     ]
    }
   ],
   "source": [
    "# 9911/10000 in 10 epochs\n",
    "class StudentModel(nn.Module):\n",
    "    def __init__(self):\n",
    "        super(StudentModel, self).__init__()\n",
    "        # Define your modules here\n",
    "        self.relu = nn.ReLU()\n",
    "        \n",
    "        self.conv1 = nn.Conv2d(in_channels = 1, out_channels = 32, kernel_size = 3, padding = 1)\n",
    "        self.bn1 = nn.BatchNorm2d(32)\n",
    "        self.conv2 = nn.Conv2d(in_channels = 32, out_channels = 32, kernel_size = 3, padding = 1)\n",
    "        self.bn2 = nn.BatchNorm2d(32)\n",
    "        self.conv3 = nn.Conv2d(in_channels = 32, out_channels = 32, kernel_size = 3, stride = 2, padding = 1)\n",
    "        self.bn3 = nn.BatchNorm2d(32)\n",
    "        \n",
    "        self.conv4 = nn.Conv2d(in_channels = 32, out_channels = 64, kernel_size = 3, padding = 1)\n",
    "        self.bn4 = nn.BatchNorm2d(64)\n",
    "        \n",
    "        self.pool = nn.MaxPool2d(2, 2)\n",
    "        self.adaptivepool = nn.AdaptiveAvgPool2d((1, 1))\n",
    "        self.conv_dropout = nn.Dropout2d(0.15)\n",
    "        \n",
    "        self.fc1 = nn.Linear(64 * 1 * 1, 128)\n",
    "        self.bn_fc1 = nn.BatchNorm1d(128)\n",
    "        self.fc1_dropout = nn.Dropout(0.2)\n",
    "        \n",
    "        self.fc_out = nn.Linear(128, 10)\n",
    "        \n",
    "\n",
    "    def forward(self, x):\n",
    "        # Define your dynamic computational graph here\n",
    "        x = self.relu(self.bn1(self.conv1(x)))\n",
    "        x = self.pool(x)\n",
    "        x = self.relu(self.bn2(self.conv2(x)))\n",
    "        x = self.pool(x)\n",
    "        x = self.relu(self.bn3(self.conv3(x)))\n",
    "        x = self.pool(x)\n",
    "        x = self.relu(self.bn4(self.conv4(x)))\n",
    "        x = self.adaptivepool(x)\n",
    "        \n",
    "        x = self.conv_dropout(x)\n",
    "\n",
    "        x = x.view(-1, 64 * 1 * 1)\n",
    "        \n",
    "        x = self.relu(self.bn_fc1(self.fc1(x)))\n",
    "        x = self.fc1_dropout(x)\n",
    "        \n",
    "        x = self.fc_out(x)\n",
    "        \n",
    "        return x\n",
    "\n",
    "\n",
    "net = StudentModel()\n",
    "\n",
    "nparams = get_n_params(net)\n",
    "print(f\"Model number of parameters: {nparams}\")\n",
    "\n",
    "assert nparams < 50000, \"Too many model parameters!\""
   ]
  },
  {
   "cell_type": "markdown",
   "metadata": {
    "colab_type": "text",
    "id": "7NBY2H8yrgRE"
   },
   "source": [
    "## Training Loop\n",
    "\n",
    "Run the following training loop to train your model. **Uncomment the line `net = StudentModel()` to use your model instead of the example model**."
   ]
  },
  {
   "cell_type": "code",
   "execution_count": 6,
   "metadata": {
    "colab": {
     "autoexec": {
      "startup": false,
      "wait_interval": 0
     }
    },
    "colab_type": "code",
    "id": "EVzqqVy9rfLk"
   },
   "outputs": [
    {
     "name": "stdout",
     "output_type": "stream",
     "text": [
      "Using GPU\n",
      "[1,   100] loss: 2.061\n",
      "[1,   200] loss: 1.550\n",
      "[1,   300] loss: 1.164\n",
      "[1,   400] loss: 0.886\n",
      "[1,   500] loss: 0.706\n",
      "[1,   600] loss: 0.566\n",
      "[1,   700] loss: 0.462\n",
      "[1,   800] loss: 0.394\n",
      "[1,   900] loss: 0.369\n",
      "[1,  1000] loss: 0.311\n",
      "[1,  1100] loss: 0.295\n",
      "[1,  1200] loss: 0.267\n",
      "[1,  1300] loss: 0.262\n",
      "[1,  1400] loss: 0.222\n",
      "[1,  1500] loss: 0.221\n",
      "[1,  1600] loss: 0.204\n",
      "[1,  1700] loss: 0.200\n",
      "[1,  1800] loss: 0.186\n",
      "[2,   100] loss: 0.198\n",
      "[2,   200] loss: 0.176\n",
      "[2,   300] loss: 0.156\n",
      "[2,   400] loss: 0.159\n",
      "[2,   500] loss: 0.156\n",
      "[2,   600] loss: 0.155\n",
      "[2,   700] loss: 0.161\n",
      "[2,   800] loss: 0.147\n",
      "[2,   900] loss: 0.156\n",
      "[2,  1000] loss: 0.146\n",
      "[2,  1100] loss: 0.136\n",
      "[2,  1200] loss: 0.124\n",
      "[2,  1300] loss: 0.121\n",
      "[2,  1400] loss: 0.123\n",
      "[2,  1500] loss: 0.126\n",
      "[2,  1600] loss: 0.121\n",
      "[2,  1700] loss: 0.119\n",
      "[2,  1800] loss: 0.099\n",
      "[3,   100] loss: 0.107\n",
      "[3,   200] loss: 0.108\n",
      "[3,   300] loss: 0.108\n",
      "[3,   400] loss: 0.119\n",
      "[3,   500] loss: 0.107\n",
      "[3,   600] loss: 0.105\n",
      "[3,   700] loss: 0.111\n",
      "[3,   800] loss: 0.103\n",
      "[3,   900] loss: 0.092\n",
      "[3,  1000] loss: 0.087\n",
      "[3,  1100] loss: 0.112\n",
      "[3,  1200] loss: 0.096\n",
      "[3,  1300] loss: 0.099\n",
      "[3,  1400] loss: 0.104\n",
      "[3,  1500] loss: 0.107\n",
      "[3,  1600] loss: 0.096\n",
      "[3,  1700] loss: 0.081\n",
      "[3,  1800] loss: 0.100\n",
      "[4,   100] loss: 0.087\n",
      "[4,   200] loss: 0.075\n",
      "[4,   300] loss: 0.075\n",
      "[4,   400] loss: 0.083\n",
      "[4,   500] loss: 0.084\n",
      "[4,   600] loss: 0.084\n",
      "[4,   700] loss: 0.079\n",
      "[4,   800] loss: 0.075\n",
      "[4,   900] loss: 0.093\n",
      "[4,  1000] loss: 0.065\n",
      "[4,  1100] loss: 0.086\n",
      "[4,  1200] loss: 0.081\n",
      "[4,  1300] loss: 0.076\n",
      "[4,  1400] loss: 0.092\n",
      "[4,  1500] loss: 0.078\n",
      "[4,  1600] loss: 0.094\n",
      "[4,  1700] loss: 0.077\n",
      "[4,  1800] loss: 0.072\n",
      "[5,   100] loss: 0.066\n",
      "[5,   200] loss: 0.058\n",
      "[5,   300] loss: 0.072\n",
      "[5,   400] loss: 0.073\n",
      "[5,   500] loss: 0.067\n",
      "[5,   600] loss: 0.070\n",
      "[5,   700] loss: 0.068\n",
      "[5,   800] loss: 0.072\n",
      "[5,   900] loss: 0.071\n",
      "[5,  1000] loss: 0.067\n",
      "[5,  1100] loss: 0.075\n",
      "[5,  1200] loss: 0.060\n",
      "[5,  1300] loss: 0.069\n",
      "[5,  1400] loss: 0.057\n",
      "[5,  1500] loss: 0.062\n",
      "[5,  1600] loss: 0.077\n",
      "[5,  1700] loss: 0.070\n",
      "[5,  1800] loss: 0.061\n",
      "[6,   100] loss: 0.068\n",
      "[6,   200] loss: 0.058\n",
      "[6,   300] loss: 0.061\n",
      "[6,   400] loss: 0.047\n",
      "[6,   500] loss: 0.052\n",
      "[6,   600] loss: 0.057\n",
      "[6,   700] loss: 0.062\n",
      "[6,   800] loss: 0.061\n",
      "[6,   900] loss: 0.056\n",
      "[6,  1000] loss: 0.065\n",
      "[6,  1100] loss: 0.053\n",
      "[6,  1200] loss: 0.061\n",
      "[6,  1300] loss: 0.066\n",
      "[6,  1400] loss: 0.047\n",
      "[6,  1500] loss: 0.051\n",
      "[6,  1600] loss: 0.073\n",
      "[6,  1700] loss: 0.067\n",
      "[6,  1800] loss: 0.057\n",
      "[7,   100] loss: 0.054\n",
      "[7,   200] loss: 0.054\n",
      "[7,   300] loss: 0.050\n",
      "[7,   400] loss: 0.054\n",
      "[7,   500] loss: 0.046\n",
      "[7,   600] loss: 0.057\n",
      "[7,   700] loss: 0.060\n",
      "[7,   800] loss: 0.060\n",
      "[7,   900] loss: 0.048\n",
      "[7,  1000] loss: 0.052\n",
      "[7,  1100] loss: 0.050\n",
      "[7,  1200] loss: 0.050\n",
      "[7,  1300] loss: 0.045\n",
      "[7,  1400] loss: 0.052\n",
      "[7,  1500] loss: 0.056\n",
      "[7,  1600] loss: 0.036\n",
      "[7,  1700] loss: 0.060\n",
      "[7,  1800] loss: 0.048\n",
      "[8,   100] loss: 0.049\n",
      "[8,   200] loss: 0.048\n",
      "[8,   300] loss: 0.064\n",
      "[8,   400] loss: 0.051\n",
      "[8,   500] loss: 0.041\n",
      "[8,   600] loss: 0.047\n",
      "[8,   700] loss: 0.047\n",
      "[8,   800] loss: 0.040\n",
      "[8,   900] loss: 0.049\n",
      "[8,  1000] loss: 0.039\n",
      "[8,  1100] loss: 0.043\n",
      "[8,  1200] loss: 0.044\n",
      "[8,  1300] loss: 0.052\n",
      "[8,  1400] loss: 0.051\n",
      "[8,  1500] loss: 0.058\n",
      "[8,  1600] loss: 0.052\n",
      "[8,  1700] loss: 0.052\n",
      "[8,  1800] loss: 0.046\n",
      "[9,   100] loss: 0.037\n",
      "[9,   200] loss: 0.050\n",
      "[9,   300] loss: 0.039\n",
      "[9,   400] loss: 0.039\n",
      "[9,   500] loss: 0.038\n",
      "[9,   600] loss: 0.043\n",
      "[9,   700] loss: 0.040\n",
      "[9,   800] loss: 0.043\n",
      "[9,   900] loss: 0.040\n",
      "[9,  1000] loss: 0.050\n",
      "[9,  1100] loss: 0.045\n",
      "[9,  1200] loss: 0.049\n",
      "[9,  1300] loss: 0.044\n",
      "[9,  1400] loss: 0.045\n",
      "[9,  1500] loss: 0.037\n",
      "[9,  1600] loss: 0.045\n",
      "[9,  1700] loss: 0.043\n",
      "[9,  1800] loss: 0.049\n",
      "[10,   100] loss: 0.040\n",
      "[10,   200] loss: 0.041\n",
      "[10,   300] loss: 0.040\n",
      "[10,   400] loss: 0.030\n",
      "[10,   500] loss: 0.037\n",
      "[10,   600] loss: 0.036\n",
      "[10,   700] loss: 0.038\n",
      "[10,   800] loss: 0.056\n",
      "[10,   900] loss: 0.041\n",
      "[10,  1000] loss: 0.035\n",
      "[10,  1100] loss: 0.043\n",
      "[10,  1200] loss: 0.042\n",
      "[10,  1300] loss: 0.040\n",
      "[10,  1400] loss: 0.033\n",
      "[10,  1500] loss: 0.038\n",
      "[10,  1600] loss: 0.044\n",
      "[10,  1700] loss: 0.046\n",
      "[10,  1800] loss: 0.044\n",
      "Finished Training\n"
     ]
    }
   ],
   "source": [
    "import torch.optim as optim\n",
    "PRINT_EVERY = 100\n",
    "\n",
    "#-----------------------------------------------------------------------------\n",
    "# Comment this line:\n",
    "# net = ExampleModel()\n",
    "\n",
    "# Uncomment this line\n",
    "net = StudentModel()\n",
    "#-----------------------------------------------------------------------------\n",
    "\n",
    "if type(net) == ExampleModel:\n",
    "    print(\n",
    "        \"WARNING! Running example model. Uncomment line to run your own model!\"\n",
    "    )\n",
    "\n",
    "#-----------------------------------------------------------------------------\n",
    "\n",
    "criterion = nn.CrossEntropyLoss()\n",
    "optimizer = optim.SGD(net.parameters(), lr=0.001, momentum=0.9)\n",
    "\n",
    "USE_CUDA = torch.cuda.is_available()\n",
    "\n",
    "if USE_CUDA:\n",
    "    net = net.cuda()\n",
    "    print(\"Using GPU\")\n",
    "else:\n",
    "    print(\"Not using GPU\")\n",
    "\n",
    "net.train()\n",
    "\n",
    "# Changing it to 10 epochs as the question asks\n",
    "\n",
    "for epoch in range(10):  # loop over the dataset multiple times\n",
    "\n",
    "    running_loss = 0.0\n",
    "    for i, data in enumerate(trainloader, 0):\n",
    "        # get the inputs\n",
    "        inputs, labels = data\n",
    "\n",
    "        inputs = Variable(inputs)\n",
    "        labels = Variable(labels)\n",
    "\n",
    "        if USE_CUDA:\n",
    "            inputs = inputs.cuda()\n",
    "            labels = labels.cuda()\n",
    "\n",
    "        # zero the parameter gradients\n",
    "        optimizer.zero_grad()\n",
    "\n",
    "        # forward + backward + optimize\n",
    "        outputs = net(inputs)\n",
    "        loss = criterion(outputs, labels)\n",
    "        loss.backward()\n",
    "        optimizer.step()\n",
    "\n",
    "        # print statistics\n",
    "        running_loss += loss.item()\n",
    "        if i % PRINT_EVERY == PRINT_EVERY - 1:  # print every PRINT_EVERY mini-batches\n",
    "            #show_image(torchvision.utils.make_grid(inputs.data))\n",
    "            print('[%d, %5d] loss: %.3f' %\n",
    "                  (epoch + 1, i + 1, running_loss / 100))\n",
    "            running_loss = 0.0\n",
    "\n",
    "print('Finished Training')"
   ]
  },
  {
   "cell_type": "markdown",
   "metadata": {
    "colab_type": "text",
    "id": "W0SLImjx1QE1"
   },
   "source": [
    "## Testing\n",
    "\n",
    "Use the below cell to test your model on the MNIST test set. By right you should only run your model on the test set once, before publishing your results. In this assignment, we will allow you to re-use the test set, which is technically an incorrect practice."
   ]
  },
  {
   "cell_type": "code",
   "execution_count": 7,
   "metadata": {
    "colab": {
     "autoexec": {
      "startup": false,
      "wait_interval": 0
     }
    },
    "colab_type": "code",
    "id": "jo1Zkn5EyNG7"
   },
   "outputs": [
    {
     "name": "stderr",
     "output_type": "stream",
     "text": [
      "C:\\anaconda3\\envs\\cv\\lib\\site-packages\\ipykernel_launcher.py:8: UserWarning: volatile was removed and now has no effect. Use `with torch.no_grad():` instead.\n",
      "  \n"
     ]
    },
    {
     "name": "stdout",
     "output_type": "stream",
     "text": [
      "Accuracy of the network on the 10000 test images: 99%\n",
      "Correct: 9911/10000\n",
      "\n",
      "Congratulations! You beat the 99% barrier!\n"
     ]
    }
   ],
   "source": [
    "correct = 0\n",
    "total = 0\n",
    "\n",
    "net.eval()\n",
    "\n",
    "for data in testloader:\n",
    "    images, labels = data\n",
    "    images = Variable(images, volatile=True)\n",
    "    if USE_CUDA:\n",
    "        images, labels = images.cuda(), labels.cuda()\n",
    "\n",
    "    outputs = net(images)\n",
    "    _, predicted = torch.max(outputs.data, 1)\n",
    "    total += labels.size(0)\n",
    "    correct += (predicted == labels).sum()\n",
    "\n",
    "acc = 100 * correct / total\n",
    "\n",
    "print(f'Accuracy of the network on the 10000 test images: {acc}%')\n",
    "print(f'Correct: {correct}/{total}')\n",
    "print(\"\")\n",
    "\n",
    "from IPython.display import Markdown, display\n",
    "\n",
    "if acc >= 99:\n",
    "    print(\"Congratulations! You beat the 99% barrier!\")\n",
    "else:\n",
    "    print(\"Sorry, but you can do better. Try again!\")"
   ]
  },
  {
   "cell_type": "markdown",
   "metadata": {
    "colab_type": "text",
    "id": "KmLl5haX4Om_"
   },
   "source": [
    "### Per-class accuracy\n",
    "\n",
    "Run the below cell to see which digits your model is better at recognizing and which digits it gets confused by."
   ]
  },
  {
   "cell_type": "code",
   "execution_count": 8,
   "metadata": {
    "colab": {
     "autoexec": {
      "startup": false,
      "wait_interval": 0
     }
    },
    "colab_type": "code",
    "id": "qp8POK0dyOKn"
   },
   "outputs": [
    {
     "name": "stderr",
     "output_type": "stream",
     "text": [
      "C:\\anaconda3\\envs\\cv\\lib\\site-packages\\ipykernel_launcher.py:6: UserWarning: volatile was removed and now has no effect. Use `with torch.no_grad():` instead.\n",
      "  \n"
     ]
    },
    {
     "name": "stdout",
     "output_type": "stream",
     "text": [
      "Accuracy of     0 : 99 %\n",
      "Accuracy of     1 : 99 %\n",
      "Accuracy of     2 : 99 %\n",
      "Accuracy of     3 : 99 %\n",
      "Accuracy of     4 : 98 %\n",
      "Accuracy of     5 : 99 %\n",
      "Accuracy of     6 : 98 %\n",
      "Accuracy of     7 : 98 %\n",
      "Accuracy of     8 : 99 %\n",
      "Accuracy of     9 : 98 %\n"
     ]
    }
   ],
   "source": [
    "class_correct = list(0. for i in range(10))\n",
    "class_total = list(0. for i in range(10))\n",
    "\n",
    "for data in testloader:\n",
    "    images, labels = data\n",
    "    images = Variable(images, volatile=True)\n",
    "    if USE_CUDA:\n",
    "        images, labels = images.cuda(), labels.cuda()\n",
    "\n",
    "    outputs = net(images)\n",
    "\n",
    "    _, predicted = torch.max(outputs.data, 1)\n",
    "    c = (predicted == labels).squeeze()\n",
    "\n",
    "    for i in range(len(labels)):\n",
    "        label = labels[i]\n",
    "        class_correct[label] += c[i].cpu().item()\n",
    "        class_total[label] += 1\n",
    "\n",
    "for i in range(10):\n",
    "    print('Accuracy of %5s : %2d %%' %\n",
    "          (i, 100 * class_correct[i] / class_total[i]))"
   ]
  }
 ],
 "metadata": {
  "accelerator": "GPU",
  "colab": {
   "collapsed_sections": [],
   "default_view": {},
   "name": "CS5670_Project5_MNISTChallenge.ipynb",
   "provenance": [],
   "version": "0.3.2",
   "views": {}
  },
  "kernelspec": {
   "display_name": "Python 3",
   "language": "python",
   "name": "python3"
  },
  "language_info": {
   "codemirror_mode": {
    "name": "ipython",
    "version": 3
   },
   "file_extension": ".py",
   "mimetype": "text/x-python",
   "name": "python",
   "nbconvert_exporter": "python",
   "pygments_lexer": "ipython3",
   "version": "3.7.6"
  }
 },
 "nbformat": 4,
 "nbformat_minor": 1
}
