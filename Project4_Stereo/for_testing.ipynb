{
 "cells": [
  {
   "cell_type": "code",
   "execution_count": 784,
   "metadata": {},
   "outputs": [],
   "source": [
    "import time\n",
    "from math import floor\n",
    "import numpy as np\n",
    "import cv2\n",
    "from scipy.sparse import csr_matrix\n",
    "def preprocess_ncc_impl(image, ncc_size):\n",
    "    \"\"\"\n",
    "    Prepare normalized patch vectors according to normalized cross\n",
    "    correlation.\n",
    "\n",
    "    This is a preprocessing step for the NCC pipeline.  It is expected that\n",
    "    'preprocess_ncc' is called on every input image to preprocess the NCC\n",
    "    vectors and then 'compute_ncc' is called to compute the dot product\n",
    "    between these vectors in two images.\n",
    "\n",
    "    NCC preprocessing has two steps.\n",
    "    (1) Compute and subtract the mean.\n",
    "    (2) Normalize the vector.\n",
    "\n",
    "    The mean is per channel.  i.e. For an RGB image, over the ncc_size**2\n",
    "    patch, compute the R, G, and B means separately.  The normalization\n",
    "    is over all channels.  i.e. For an RGB image, after subtracting out the\n",
    "    RGB mean, compute the norm over the entire (ncc_size**2 * channels)\n",
    "    vector and divide.\n",
    "\n",
    "    If the norm of the vector is < 1e-6, then set the entire vector for that\n",
    "    patch to zero.\n",
    "\n",
    "    Patches that extend past the boundary of the input image at all should be\n",
    "    considered zero.  Their entire vector should be set to 0.\n",
    "\n",
    "    Patches are to be flattened into vectors with the default numpy row\n",
    "    major order.  For example, given the following\n",
    "    2 (height) x 2 (width) x 2 (channels) patch, here is how the output\n",
    "    vector should be arranged.\n",
    "\n",
    "    channel1         channel2\n",
    "    +------+------+  +------+------+ height\n",
    "    | x111 | x121 |  | x112 | x122 |  |\n",
    "    +------+------+  +------+------+  |\n",
    "    | x211 | x221 |  | x212 | x222 |  |\n",
    "    +------+------+  +------+------+  v\n",
    "    width ------->\n",
    "\n",
    "    v = [ x111, x121, x211, x221, x112, x122, x212, x222 ]\n",
    "\n",
    "    see order argument in np.reshape\n",
    "\n",
    "    Input:\n",
    "        image -- height x width x channels image of type float32\n",
    "        ncc_size -- integer width and height of NCC patch region; assumed to be odd\n",
    "    Output:\n",
    "        normalized -- heigth x width x (channels * ncc_size**2) array\n",
    "    \"\"\"\n",
    "    # raise NotImplementedError()\n",
    "    height, width, channel = image.shape\n",
    "    normalized = np.zeros([height, width, channel * ncc_size ** 2])\n",
    "    patch_size = int(ncc_size / 2)\n",
    "    \n",
    "    image_t = image.T\n",
    "    for h in range(patch_size, height - patch_size):\n",
    "        patches = []\n",
    "        for w in range(patch_size, width - patch_size):\n",
    "            patches.append(image_t[:, w - patch_size: w + patch_size + 1, h - patch_size : h + patch_size + 1])\n",
    "\n",
    "        patches = np.array(patches)\n",
    "        \n",
    "        channel_matrix = np.reshape(np.transpose(patches, (0,1,3,2)), (len(patches), 3, ncc_size **2)).astype(np.float32)\n",
    "\n",
    "        channel_matrix -= np.mean(channel_matrix, axis = 2, keepdims = True)\n",
    "            \n",
    "        for i in range(len(channel_matrix)):\n",
    "            std = np.linalg.norm(channel_matrix[i])\n",
    "            if std >= 1e-6:\n",
    "                normalized[h, patch_size + i] = channel_matrix[i].reshape([-1]) / std\n",
    "\n",
    "    return normalized\n",
    "\n",
    "\n",
    "def compute_ncc_impl(image1, image2):\n",
    "    \"\"\"\n",
    "    Compute normalized cross correlation between two images that already have\n",
    "    normalized vectors computed for each pixel with preprocess_ncc.\n",
    "\n",
    "    Input:\n",
    "        image1 -- height x width x (channels * ncc_size**2) array\n",
    "        image2 -- height x width x (channels * ncc_size**2) array\n",
    "    Output:\n",
    "        ncc -- height x width normalized cross correlation between image1 and\n",
    "               image2.\n",
    "    \"\"\"\n",
    "    ncc = np.einsum('ijk, ijk -> ij', image1, image2)\n",
    "    return ncc"
   ]
  },
  {
   "cell_type": "code",
   "execution_count": 785,
   "metadata": {},
   "outputs": [],
   "source": [
    "def compute_ncc(image1, image2):\n",
    "    return compute_ncc_impl(image1, image2)\n",
    "\n",
    "\n",
    "def preprocess_ncc(image, ncc_size):\n",
    "    return preprocess_ncc_impl(image, ncc_size)"
   ]
  },
  {
   "cell_type": "code",
   "execution_count": 786,
   "metadata": {},
   "outputs": [],
   "source": [
    "from imageio import imread\n",
    "def ncc_full_shapes_test():\n",
    "    ncc_size = 5\n",
    "\n",
    "    image1 = imread('test_materials/ncc1.png')\n",
    "    image2 = imread('test_materials/ncc2.png')\n",
    "\n",
    "    n1 = preprocess_ncc(image1, ncc_size)\n",
    "    n2 = preprocess_ncc(image2, ncc_size)\n",
    "\n",
    "    result = compute_ncc(n1, n2)\n",
    "    return n1, n2, result"
   ]
  },
  {
   "cell_type": "code",
   "execution_count": 787,
   "metadata": {},
   "outputs": [],
   "source": [
    "def preprocess_ncc_impl(image, ncc_size):\n",
    "    \"\"\"\n",
    "    Prepare normalized patch vectors according to normalized cross\n",
    "    correlation.\n",
    "\n",
    "    This is a preprocessing step for the NCC pipeline.  It is expected that\n",
    "    'preprocess_ncc' is called on every input image to preprocess the NCC\n",
    "    vectors and then 'compute_ncc' is called to compute the dot product\n",
    "    between these vectors in two images.\n",
    "\n",
    "    NCC preprocessing has two steps.\n",
    "    (1) Compute and subtract the mean.\n",
    "    (2) Normalize the vector.\n",
    "\n",
    "    The mean is per channel.  i.e. For an RGB image, over the ncc_size**2\n",
    "    patch, compute the R, G, and B means separately.  The normalization\n",
    "    is over all channels.  i.e. For an RGB image, after subtracting out the\n",
    "    RGB mean, compute the norm over the entire (ncc_size**2 * channels)\n",
    "    vector and divide.\n",
    "\n",
    "    If the norm of the vector is < 1e-6, then set the entire vector for that\n",
    "    patch to zero.\n",
    "\n",
    "    Patches that extend past the boundary of the input image at all should be\n",
    "    considered zero.  Their entire vector should be set to 0.\n",
    "\n",
    "    Patches are to be flattened into vectors with the default numpy row\n",
    "    major order.  For example, given the following\n",
    "    2 (height) x 2 (width) x 2 (channels) patch, here is how the output\n",
    "    vector should be arranged.\n",
    "\n",
    "    channel1         channel2\n",
    "    +------+------+  +------+------+ height\n",
    "    | x111 | x121 |  | x112 | x122 |  |\n",
    "    +------+------+  +------+------+  |\n",
    "    | x211 | x221 |  | x212 | x222 |  |\n",
    "    +------+------+  +------+------+  v\n",
    "    width ------->\n",
    "\n",
    "    v = [ x111, x121, x211, x221, x112, x122, x212, x222 ]\n",
    "\n",
    "    see order argument in np.reshape\n",
    "\n",
    "    Input:\n",
    "        image -- height x width x channels image of type float32\n",
    "        ncc_size -- integer width and height of NCC patch region; assumed to be odd\n",
    "    Output:\n",
    "        normalized -- heigth x width x (channels * ncc_size**2) array\n",
    "    \"\"\"\n",
    "    # raise NotImplementedError()\n",
    "    height, width, channel = image.shape\n",
    "    normalized = np.zeros([height, width, channel * ncc_size ** 2])\n",
    "    patch_size = int(ncc_size / 2)\n",
    "    \n",
    "    image_t = image.T\n",
    "    \n",
    "    for h in range(patch_size, height - patch_size):\n",
    "        for w in range(patch_size, width - patch_size):\n",
    "            patch = image_t[:, w - patch_size : w + patch_size + 1, h - patch_size : h + patch_size + 1]\n",
    "\n",
    "            channel_matrix = np.reshape(np.transpose(patch, (0,2,1)), (3, ncc_size **2)).astype(np.float32)\n",
    "\n",
    "            channel_matrix -= np.mean(channel_matrix, axis = 1, keepdims = True)\n",
    "\n",
    "            std = np.linalg.norm(channel_matrix)\n",
    "            \n",
    "            if std < 1e-6:\n",
    "                continue\n",
    "                \n",
    "            normalized[h, w] = channel_matrix.reshape([-1]) / std\n",
    "    print(normalized.shape)\n",
    "            \n",
    "    return normalized"
   ]
  },
  {
   "cell_type": "code",
   "execution_count": 788,
   "metadata": {},
   "outputs": [
    {
     "name": "stdout",
     "output_type": "stream",
     "text": [
      "(256, 256, 75)\n",
      "(256, 256, 75)\n",
      "Wall time: 5.23 s\n"
     ]
    }
   ],
   "source": [
    "%%time\n",
    "n1, n2, result = ncc_full_shapes_test()"
   ]
  },
  {
   "cell_type": "code",
   "execution_count": 790,
   "metadata": {},
   "outputs": [
    {
     "data": {
      "text/plain": [
       "array([], dtype=int64)"
      ]
     },
     "execution_count": 790,
     "metadata": {},
     "output_type": "execute_result"
    }
   ],
   "source": [
    "np.where(np.abs(result - correct) >= 1e-5)[0][:10]"
   ]
  },
  {
   "cell_type": "code",
   "execution_count": 768,
   "metadata": {},
   "outputs": [
    {
     "data": {
      "text/plain": [
       "array([0.        , 0.        , 0.        , 0.        , 0.        ,\n",
       "       0.        , 0.        , 0.        , 0.        , 0.        ,\n",
       "       0.        , 0.        , 0.        , 0.        , 0.        ,\n",
       "       0.        , 0.        , 0.        , 0.        , 0.        ,\n",
       "       0.        , 0.        , 0.        , 0.        , 0.        ,\n",
       "       0.        , 0.        , 0.        , 0.        , 0.        ,\n",
       "       0.        , 0.        , 0.        , 0.        , 0.        ,\n",
       "       0.        , 0.        , 0.        , 0.        , 0.        ,\n",
       "       0.        , 0.        , 0.        , 0.        , 0.        ,\n",
       "       0.        , 0.        , 0.        , 0.        , 0.        ,\n",
       "       0.        , 0.        , 0.        , 0.        , 0.        ,\n",
       "       0.        , 0.        , 0.        , 0.        , 0.        ,\n",
       "       0.        , 0.        , 0.        , 0.        , 0.        ,\n",
       "       0.        , 0.        , 0.        , 0.        , 0.        ,\n",
       "       0.        , 0.        , 0.        , 0.        , 0.        ,\n",
       "       0.        , 0.        , 0.        , 0.        , 0.        ,\n",
       "       0.        , 0.        , 0.        , 0.        , 0.        ,\n",
       "       0.        , 0.        , 0.        , 0.        , 0.        ,\n",
       "       0.        , 0.        , 0.        , 0.        , 0.        ,\n",
       "       0.        , 0.        , 0.        , 0.        , 0.        ,\n",
       "       0.        , 0.        , 0.        , 0.        , 0.        ,\n",
       "       0.        , 0.        , 0.        , 0.        , 0.        ,\n",
       "       0.        , 0.        , 0.        , 0.        , 0.        ,\n",
       "       0.        , 0.        , 0.        , 0.        , 0.        ,\n",
       "       0.        , 0.        , 0.        , 0.        , 0.        ,\n",
       "       0.        , 0.        , 0.        , 0.        , 0.        ,\n",
       "       0.        , 0.        , 0.        , 0.        , 0.        ,\n",
       "       0.        , 0.        , 0.        , 0.        , 0.        ,\n",
       "       0.        , 0.        , 0.        , 0.        , 0.        ,\n",
       "       0.        , 0.        , 0.        , 0.        , 0.        ,\n",
       "       0.        , 0.        , 0.        , 0.        , 0.        ,\n",
       "       0.        , 0.        , 0.        , 0.        , 0.        ,\n",
       "       0.        , 0.        , 0.        , 0.        , 0.        ,\n",
       "       0.        , 0.        , 1.00000006, 0.9999999 , 1.00000002,\n",
       "       1.00000014, 0.99999997, 0.99999997, 0.99999994, 1.00000005,\n",
       "       0.99999999, 1.00000006, 1.00000003, 1.00000002, 0.99999995,\n",
       "       1.00000002, 1.00000009, 0.99999994, 1.00000004, 0.99999998,\n",
       "       0.99999989, 0.99999996, 0.99999996, 1.00000001, 1.0000001 ,\n",
       "       0.99999994, 1.00000003, 1.00000003, 0.99999997, 0.99999992,\n",
       "       0.99999995, 0.99999988, 0.99999999, 1.00000004, 1.00000003,\n",
       "       1.        , 1.00000007, 0.99999998, 1.00000001, 1.00000003,\n",
       "       1.0000001 , 1.00000012, 0.9999999 , 1.        , 0.99999999,\n",
       "       1.00000004, 1.00000005, 1.00000001, 1.00000005, 0.99999998,\n",
       "       0.99999992, 1.00000006, 1.        , 1.00000003, 0.        ,\n",
       "       0.        , 0.        , 0.        , 0.        , 0.        ,\n",
       "       0.        , 0.        , 0.        , 0.        , 0.        ,\n",
       "       0.        , 0.        , 0.        , 0.        , 0.        ,\n",
       "       0.        , 0.        , 0.        , 0.        , 0.        ,\n",
       "       0.        , 0.        , 0.        , 0.        , 0.        ,\n",
       "       0.        , 0.        , 0.        , 0.        , 0.        ,\n",
       "       0.        , 0.        , 0.        , 0.        , 0.        ,\n",
       "       0.        ])"
      ]
     },
     "execution_count": 768,
     "metadata": {},
     "output_type": "execute_result"
    }
   ],
   "source": [
    "result[2]"
   ]
  },
  {
   "cell_type": "code",
   "execution_count": 770,
   "metadata": {},
   "outputs": [
    {
     "data": {
      "text/plain": [
       "array([0.        , 0.        , 0.        , 0.        , 0.        ,\n",
       "       0.        , 0.        , 0.        , 0.        , 0.        ,\n",
       "       0.        , 0.        , 0.        , 0.        , 0.        ,\n",
       "       0.        , 0.        , 0.        , 0.        , 0.        ,\n",
       "       0.        , 0.        , 0.        , 0.        , 0.        ,\n",
       "       0.        , 0.        , 0.        , 0.        , 0.        ,\n",
       "       0.        , 0.        , 0.        , 0.        , 0.        ,\n",
       "       0.        , 0.        , 0.        , 0.        , 0.        ,\n",
       "       0.        , 0.        , 0.        , 0.        , 0.        ,\n",
       "       0.        , 0.        , 0.        , 0.        , 0.        ,\n",
       "       0.        , 0.        , 0.        , 0.        , 0.        ,\n",
       "       0.        , 0.        , 0.        , 0.        , 0.        ,\n",
       "       0.        , 0.        , 0.        , 0.        , 0.        ,\n",
       "       0.        , 0.        , 0.        , 0.        , 0.        ,\n",
       "       0.        , 0.        , 0.        , 0.        , 0.        ,\n",
       "       0.        , 0.        , 0.        , 0.        , 0.        ,\n",
       "       0.        , 0.        , 0.        , 0.        , 0.        ,\n",
       "       0.        , 0.        , 0.        , 0.        , 0.        ,\n",
       "       0.        , 0.        , 0.        , 0.        , 0.        ,\n",
       "       0.        , 0.        , 0.        , 0.        , 0.        ,\n",
       "       0.        , 0.        , 0.        , 0.        , 0.        ,\n",
       "       0.        , 0.        , 0.        , 0.        , 0.        ,\n",
       "       0.        , 0.        , 0.        , 0.        , 0.        ,\n",
       "       0.        , 0.        , 0.        , 0.        , 0.        ,\n",
       "       0.        , 0.        , 0.        , 0.        , 0.        ,\n",
       "       0.        , 0.        , 0.        , 0.        , 0.        ,\n",
       "       0.        , 0.        , 0.        , 0.        , 0.        ,\n",
       "       0.        , 0.        , 0.        , 0.        , 0.        ,\n",
       "       0.        , 0.        , 0.        , 0.        , 0.        ,\n",
       "       0.        , 0.        , 0.        , 0.        , 0.        ,\n",
       "       0.        , 0.        , 0.        , 0.        , 0.        ,\n",
       "       0.        , 0.        , 0.        , 0.        , 0.        ,\n",
       "       0.        , 0.        , 0.        , 0.        , 0.        ,\n",
       "       0.        , 0.        , 0.        , 0.        , 1.        ,\n",
       "       1.        , 1.        , 1.0000001 , 0.99999994, 1.        ,\n",
       "       0.99999994, 1.        , 0.99999994, 1.        , 1.        ,\n",
       "       1.        , 1.        , 1.0000001 , 0.99999994, 0.9999999 ,\n",
       "       1.        , 1.        , 0.9999999 , 0.9999999 , 0.9999999 ,\n",
       "       1.0000002 , 0.9999999 , 0.99999994, 1.        , 1.        ,\n",
       "       0.99999994, 1.        , 0.9999999 , 0.99999994, 0.9999999 ,\n",
       "       1.0000001 , 0.99999994, 0.9999999 , 1.0000001 , 0.99999994,\n",
       "       1.        , 1.0000001 , 1.0000001 , 0.9999999 , 0.9999998 ,\n",
       "       1.        , 1.        , 1.0000001 , 1.        , 1.        ,\n",
       "       1.        , 0.9999999 , 1.        , 1.0000001 , 0.99999994,\n",
       "       1.0000001 , 0.        , 0.        , 0.        , 0.        ,\n",
       "       0.        , 0.        , 0.        , 0.        , 0.        ,\n",
       "       0.        , 0.        , 0.        , 0.        , 0.        ,\n",
       "       0.        , 0.        , 0.        , 0.        , 0.        ,\n",
       "       0.        , 0.        , 0.        , 0.        , 0.        ,\n",
       "       0.        , 0.        , 0.        , 0.        , 0.        ,\n",
       "       0.        , 0.        , 0.        , 0.        , 0.        ,\n",
       "       0.        ], dtype=float32)"
      ]
     },
     "execution_count": 770,
     "metadata": {},
     "output_type": "execute_result"
    }
   ],
   "source": [
    "correct[2]"
   ]
  },
  {
   "cell_type": "code",
   "execution_count": 774,
   "metadata": {},
   "outputs": [],
   "source": [
    "correct = np.load('test_materials/ncc.npy')\n",
    "\n",
    "assert result.shape == n1.shape[:2]\n",
    "assert result.shape == n2.shape[:2]\n",
    "assert (np.abs(result - correct) < 1e-5).all()"
   ]
  },
  {
   "cell_type": "code",
   "execution_count": 733,
   "metadata": {},
   "outputs": [
    {
     "ename": "AssertionError",
     "evalue": "",
     "output_type": "error",
     "traceback": [
      "\u001b[1;31m---------------------------------------------------------------------------\u001b[0m",
      "\u001b[1;31mAssertionError\u001b[0m                            Traceback (most recent call last)",
      "\u001b[1;32m<ipython-input-733-e636130a1914>\u001b[0m in \u001b[0;36m<module>\u001b[1;34m\u001b[0m\n\u001b[1;32m----> 1\u001b[1;33m \u001b[1;32massert\u001b[0m \u001b[1;33m(\u001b[0m\u001b[0mnp\u001b[0m\u001b[1;33m.\u001b[0m\u001b[0mabs\u001b[0m\u001b[1;33m(\u001b[0m\u001b[0mans_n1\u001b[0m \u001b[1;33m-\u001b[0m \u001b[0mn1\u001b[0m\u001b[1;33m)\u001b[0m \u001b[1;33m<\u001b[0m \u001b[1;36m1e-5\u001b[0m\u001b[1;33m)\u001b[0m\u001b[1;33m.\u001b[0m\u001b[0mall\u001b[0m\u001b[1;33m(\u001b[0m\u001b[1;33m)\u001b[0m\u001b[1;33m\u001b[0m\u001b[1;33m\u001b[0m\u001b[0m\n\u001b[0m\u001b[0;32m      2\u001b[0m \u001b[1;32massert\u001b[0m \u001b[1;33m(\u001b[0m\u001b[0mnp\u001b[0m\u001b[1;33m.\u001b[0m\u001b[0mabs\u001b[0m\u001b[1;33m(\u001b[0m\u001b[0mans_n2\u001b[0m \u001b[1;33m-\u001b[0m \u001b[0mn2\u001b[0m\u001b[1;33m)\u001b[0m \u001b[1;33m<\u001b[0m \u001b[1;36m1e-5\u001b[0m\u001b[1;33m)\u001b[0m\u001b[1;33m.\u001b[0m\u001b[0mall\u001b[0m\u001b[1;33m(\u001b[0m\u001b[1;33m)\u001b[0m\u001b[1;33m\u001b[0m\u001b[1;33m\u001b[0m\u001b[0m\n",
      "\u001b[1;31mAssertionError\u001b[0m: "
     ]
    }
   ],
   "source": [
    "assert (np.abs(ans_n1 - n1) < 1e-5).all()\n",
    "assert (np.abs(ans_n2 - n2) < 1e-5).all()"
   ]
  },
  {
   "cell_type": "code",
   "execution_count": 734,
   "metadata": {},
   "outputs": [],
   "source": [
    "im = np.ones((5,5,3))\n",
    "for i in range(len(im)):\n",
    "    for j in range(len(im[0])):\n",
    "        for c in range(3):\n",
    "            im[i, j, c] = im[i, j, c] + i + 10 * j + 100 * c"
   ]
  },
  {
   "cell_type": "code",
   "execution_count": 735,
   "metadata": {},
   "outputs": [
    {
     "data": {
      "text/plain": [
       "array([[[  1., 101., 201.],\n",
       "        [ 11., 111., 211.],\n",
       "        [ 21., 121., 221.],\n",
       "        [ 31., 131., 231.],\n",
       "        [ 41., 141., 241.]],\n",
       "\n",
       "       [[  2., 102., 202.],\n",
       "        [ 12., 112., 212.],\n",
       "        [ 22., 122., 222.],\n",
       "        [ 32., 132., 232.],\n",
       "        [ 42., 142., 242.]],\n",
       "\n",
       "       [[  3., 103., 203.],\n",
       "        [ 13., 113., 213.],\n",
       "        [ 23., 123., 223.],\n",
       "        [ 33., 133., 233.],\n",
       "        [ 43., 143., 243.]],\n",
       "\n",
       "       [[  4., 104., 204.],\n",
       "        [ 14., 114., 214.],\n",
       "        [ 24., 124., 224.],\n",
       "        [ 34., 134., 234.],\n",
       "        [ 44., 144., 244.]],\n",
       "\n",
       "       [[  5., 105., 205.],\n",
       "        [ 15., 115., 215.],\n",
       "        [ 25., 125., 225.],\n",
       "        [ 35., 135., 235.],\n",
       "        [ 45., 145., 245.]]])"
      ]
     },
     "execution_count": 735,
     "metadata": {},
     "output_type": "execute_result"
    }
   ],
   "source": [
    "im"
   ]
  },
  {
   "cell_type": "code",
   "execution_count": 736,
   "metadata": {},
   "outputs": [],
   "source": [
    "a = preprocess_ncc(im, 3)"
   ]
  },
  {
   "cell_type": "code",
   "execution_count": 737,
   "metadata": {},
   "outputs": [
    {
     "data": {
      "text/plain": [
       "array([[  1.,  11.,  21.,  31.,  41.,   2.,  12.,  22.,  32.,  42.,   3.,\n",
       "         13.,  23.,  33.,  43.,   4.,  14.,  24.,  34.,  44.,   5.,  15.,\n",
       "         25.,  35.,  45.],\n",
       "       [101., 111., 121., 131., 141., 102., 112., 122., 132., 142., 103.,\n",
       "        113., 123., 133., 143., 104., 114., 124., 134., 144., 105., 115.,\n",
       "        125., 135., 145.],\n",
       "       [201., 211., 221., 231., 241., 202., 212., 222., 232., 242., 203.,\n",
       "        213., 223., 233., 243., 204., 214., 224., 234., 244., 205., 215.,\n",
       "        225., 235., 245.]], dtype=float32)"
      ]
     },
     "execution_count": 737,
     "metadata": {},
     "output_type": "execute_result"
    }
   ],
   "source": [
    "banana"
   ]
  },
  {
   "cell_type": "code",
   "execution_count": 572,
   "metadata": {},
   "outputs": [
    {
     "name": "stdout",
     "output_type": "stream",
     "text": [
      "[1. 2. 3.]\n",
      "[11. 12. 13.]\n",
      "[21. 22. 23.]\n"
     ]
    }
   ],
   "source": [
    "skip = 3\n",
    "print(banana[0, 0:11:5])\n",
    "print(banana[0, 1:12:5])\n",
    "print(banana[0, 2:13:5])"
   ]
  },
  {
   "cell_type": "code",
   "execution_count": 548,
   "metadata": {},
   "outputs": [
    {
     "data": {
      "text/plain": [
       "array([[[  2.,   3.],\n",
       "        [ 12.,  13.]],\n",
       "\n",
       "       [[102., 103.],\n",
       "        [112., 113.]],\n",
       "\n",
       "       [[202., 203.],\n",
       "        [212., 213.]]])"
      ]
     },
     "execution_count": 548,
     "metadata": {},
     "output_type": "execute_result"
    }
   ],
   "source": [
    "im[1:3, 0:2].T"
   ]
  },
  {
   "cell_type": "code",
   "execution_count": 464,
   "metadata": {},
   "outputs": [
    {
     "data": {
      "text/plain": [
       "array([[[  2.,   3.],\n",
       "        [ 12.,  13.]],\n",
       "\n",
       "       [[102., 103.],\n",
       "        [112., 113.]],\n",
       "\n",
       "       [[202., 203.],\n",
       "        [212., 213.]]])"
      ]
     },
     "execution_count": 464,
     "metadata": {},
     "output_type": "execute_result"
    }
   ],
   "source": [
    "im.T[0:3, 0:2, 1:3]"
   ]
  },
  {
   "cell_type": "code",
   "execution_count": 210,
   "metadata": {},
   "outputs": [
    {
     "data": {
      "text/plain": [
       "(3, 3, 3)"
      ]
     },
     "execution_count": 210,
     "metadata": {},
     "output_type": "execute_result"
    }
   ],
   "source": [
    "bb = np.array([np.array([np.array([1,2,3]),np.array([11,12,13]),np.array([21,22,23])]),\n",
    "               np.array([np.array([101,102,103]),np.array([111,112,113]),np.array([121,122,123])]),\n",
    "               np.array([np.array([201,202,203]),np.array([211,212,213]),np.array([221,222,223])])])\n",
    "bb.shape"
   ]
  },
  {
   "cell_type": "code",
   "execution_count": 217,
   "metadata": {},
   "outputs": [
    {
     "data": {
      "text/plain": [
       "array([[  1,  11,  21,   2,  12,  22,   3,  13,  23],\n",
       "       [101, 111, 121, 102, 112, 122, 103, 113, 123],\n",
       "       [201, 211, 221, 202, 212, 222, 203, 213, 223]])"
      ]
     },
     "execution_count": 217,
     "metadata": {},
     "output_type": "execute_result"
    }
   ],
   "source": [
    "np.reshape(np.transpose(bb, (0,2,1)), (3, 9))"
   ]
  },
  {
   "cell_type": "code",
   "execution_count": 738,
   "metadata": {},
   "outputs": [],
   "source": [
    "def correlated_ncc_test():\n",
    "    ncc_size = 5\n",
    "    ncc_half = int(ncc_size / 2)\n",
    "\n",
    "    image1 = np.random.random((2 * ncc_size - 1, 2 * ncc_size - 1, 3))\n",
    "    image2 = image1\n",
    "\n",
    "    n1 = preprocess_ncc(image1, ncc_size)\n",
    "    print(n1.shape)\n",
    "    n2 = preprocess_ncc(image2, ncc_size)\n",
    "    print(n2.shape)\n",
    "\n",
    "    ncc = compute_ncc(n1, n2)\n",
    "    print(ncc.shape)\n",
    "\n",
    "    assert (np.abs(ncc[:ncc_half, :]) < 1e-5).all()\n",
    "    assert (np.abs(ncc[-ncc_half:, :]) < 1e-5).all()\n",
    "    assert (np.abs(ncc[:, :ncc_half]) < 1e-5).all()\n",
    "    assert (np.abs(ncc[:, -ncc_half:]) < 1e-5).all()\n",
    "    print(np.abs(ncc[ncc_half:-ncc_half, ncc_half:-ncc_half] - 1))\n",
    "    assert (\n",
    "        np.abs(ncc[ncc_half:-ncc_half, ncc_half:-ncc_half] - 1) < 1e-5).all()"
   ]
  },
  {
   "cell_type": "code",
   "execution_count": 739,
   "metadata": {},
   "outputs": [
    {
     "name": "stdout",
     "output_type": "stream",
     "text": [
      "(9, 9, 75)\n",
      "(9, 9, 75)\n",
      "(9, 9)\n"
     ]
    },
    {
     "ename": "AssertionError",
     "evalue": "",
     "output_type": "error",
     "traceback": [
      "\u001b[1;31m---------------------------------------------------------------------------\u001b[0m",
      "\u001b[1;31mAssertionError\u001b[0m                            Traceback (most recent call last)",
      "\u001b[1;32m<ipython-input-739-66284f10ab38>\u001b[0m in \u001b[0;36m<module>\u001b[1;34m\u001b[0m\n\u001b[1;32m----> 1\u001b[1;33m \u001b[0mcorrelated_ncc_test\u001b[0m\u001b[1;33m(\u001b[0m\u001b[1;33m)\u001b[0m\u001b[1;33m\u001b[0m\u001b[1;33m\u001b[0m\u001b[0m\n\u001b[0m",
      "\u001b[1;32m<ipython-input-738-bf326476c7eb>\u001b[0m in \u001b[0;36mcorrelated_ncc_test\u001b[1;34m()\u001b[0m\n\u001b[0;32m     16\u001b[0m     \u001b[1;32massert\u001b[0m \u001b[1;33m(\u001b[0m\u001b[0mnp\u001b[0m\u001b[1;33m.\u001b[0m\u001b[0mabs\u001b[0m\u001b[1;33m(\u001b[0m\u001b[0mncc\u001b[0m\u001b[1;33m[\u001b[0m\u001b[1;33m:\u001b[0m\u001b[0mncc_half\u001b[0m\u001b[1;33m,\u001b[0m \u001b[1;33m:\u001b[0m\u001b[1;33m]\u001b[0m\u001b[1;33m)\u001b[0m \u001b[1;33m<\u001b[0m \u001b[1;36m1e-5\u001b[0m\u001b[1;33m)\u001b[0m\u001b[1;33m.\u001b[0m\u001b[0mall\u001b[0m\u001b[1;33m(\u001b[0m\u001b[1;33m)\u001b[0m\u001b[1;33m\u001b[0m\u001b[1;33m\u001b[0m\u001b[0m\n\u001b[0;32m     17\u001b[0m     \u001b[1;32massert\u001b[0m \u001b[1;33m(\u001b[0m\u001b[0mnp\u001b[0m\u001b[1;33m.\u001b[0m\u001b[0mabs\u001b[0m\u001b[1;33m(\u001b[0m\u001b[0mncc\u001b[0m\u001b[1;33m[\u001b[0m\u001b[1;33m-\u001b[0m\u001b[0mncc_half\u001b[0m\u001b[1;33m:\u001b[0m\u001b[1;33m,\u001b[0m \u001b[1;33m:\u001b[0m\u001b[1;33m]\u001b[0m\u001b[1;33m)\u001b[0m \u001b[1;33m<\u001b[0m \u001b[1;36m1e-5\u001b[0m\u001b[1;33m)\u001b[0m\u001b[1;33m.\u001b[0m\u001b[0mall\u001b[0m\u001b[1;33m(\u001b[0m\u001b[1;33m)\u001b[0m\u001b[1;33m\u001b[0m\u001b[1;33m\u001b[0m\u001b[0m\n\u001b[1;32m---> 18\u001b[1;33m     \u001b[1;32massert\u001b[0m \u001b[1;33m(\u001b[0m\u001b[0mnp\u001b[0m\u001b[1;33m.\u001b[0m\u001b[0mabs\u001b[0m\u001b[1;33m(\u001b[0m\u001b[0mncc\u001b[0m\u001b[1;33m[\u001b[0m\u001b[1;33m:\u001b[0m\u001b[1;33m,\u001b[0m \u001b[1;33m:\u001b[0m\u001b[0mncc_half\u001b[0m\u001b[1;33m]\u001b[0m\u001b[1;33m)\u001b[0m \u001b[1;33m<\u001b[0m \u001b[1;36m1e-5\u001b[0m\u001b[1;33m)\u001b[0m\u001b[1;33m.\u001b[0m\u001b[0mall\u001b[0m\u001b[1;33m(\u001b[0m\u001b[1;33m)\u001b[0m\u001b[1;33m\u001b[0m\u001b[1;33m\u001b[0m\u001b[0m\n\u001b[0m\u001b[0;32m     19\u001b[0m     \u001b[1;32massert\u001b[0m \u001b[1;33m(\u001b[0m\u001b[0mnp\u001b[0m\u001b[1;33m.\u001b[0m\u001b[0mabs\u001b[0m\u001b[1;33m(\u001b[0m\u001b[0mncc\u001b[0m\u001b[1;33m[\u001b[0m\u001b[1;33m:\u001b[0m\u001b[1;33m,\u001b[0m \u001b[1;33m-\u001b[0m\u001b[0mncc_half\u001b[0m\u001b[1;33m:\u001b[0m\u001b[1;33m]\u001b[0m\u001b[1;33m)\u001b[0m \u001b[1;33m<\u001b[0m \u001b[1;36m1e-5\u001b[0m\u001b[1;33m)\u001b[0m\u001b[1;33m.\u001b[0m\u001b[0mall\u001b[0m\u001b[1;33m(\u001b[0m\u001b[1;33m)\u001b[0m\u001b[1;33m\u001b[0m\u001b[1;33m\u001b[0m\u001b[0m\n\u001b[0;32m     20\u001b[0m     \u001b[0mprint\u001b[0m\u001b[1;33m(\u001b[0m\u001b[0mnp\u001b[0m\u001b[1;33m.\u001b[0m\u001b[0mabs\u001b[0m\u001b[1;33m(\u001b[0m\u001b[0mncc\u001b[0m\u001b[1;33m[\u001b[0m\u001b[0mncc_half\u001b[0m\u001b[1;33m:\u001b[0m\u001b[1;33m-\u001b[0m\u001b[0mncc_half\u001b[0m\u001b[1;33m,\u001b[0m \u001b[0mncc_half\u001b[0m\u001b[1;33m:\u001b[0m\u001b[1;33m-\u001b[0m\u001b[0mncc_half\u001b[0m\u001b[1;33m]\u001b[0m \u001b[1;33m-\u001b[0m \u001b[1;36m1\u001b[0m\u001b[1;33m)\u001b[0m\u001b[1;33m)\u001b[0m\u001b[1;33m\u001b[0m\u001b[1;33m\u001b[0m\u001b[0m\n",
      "\u001b[1;31mAssertionError\u001b[0m: "
     ]
    }
   ],
   "source": [
    "correlated_ncc_test()"
   ]
  },
  {
   "cell_type": "code",
   "execution_count": null,
   "metadata": {},
   "outputs": [],
   "source": []
  }
 ],
 "metadata": {
  "kernelspec": {
   "display_name": "Python 3",
   "language": "python",
   "name": "python3"
  },
  "language_info": {
   "codemirror_mode": {
    "name": "ipython",
    "version": 3
   },
   "file_extension": ".py",
   "mimetype": "text/x-python",
   "name": "python",
   "nbconvert_exporter": "python",
   "pygments_lexer": "ipython3",
   "version": "3.7.4"
  }
 },
 "nbformat": 4,
 "nbformat_minor": 4
}
